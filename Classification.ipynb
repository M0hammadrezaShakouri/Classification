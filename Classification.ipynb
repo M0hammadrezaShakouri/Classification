{
 "cells": [
  {
   "cell_type": "code",
   "execution_count": 1,
   "id": "f64a01dc",
   "metadata": {},
   "outputs": [],
   "source": [
    "import numpy as np\n",
    "import pandas as pd\n",
    "import matplotlib as pl\n",
    "import math\n",
    "import random\n"
   ]
  },
  {
   "cell_type": "markdown",
   "id": "1ae5a6f5",
   "metadata": {},
   "source": [
    "#  Data split\n"
   ]
  },
  {
   "cell_type": "code",
   "execution_count": 2,
   "id": "72b6f76f",
   "metadata": {},
   "outputs": [],
   "source": [
    "def train_test_split(df, test_size):\n",
    "    \n",
    "    if isinstance(test_size, float):\n",
    "        test_size = round(test_size * len(df))\n",
    "\n",
    "    indices = df.index.tolist()\n",
    "    test_indices = random.sample(population=indices, k=test_size)\n",
    "\n",
    "    test_df = df.loc[test_indices]\n",
    "    train_df = df.drop(test_indices)\n",
    "    \n",
    "    return train_df, test_df"
   ]
  },
  {
   "cell_type": "code",
   "execution_count": 3,
   "id": "f3ed6b57",
   "metadata": {},
   "outputs": [
    {
     "data": {
      "text/html": [
       "<div>\n",
       "<style scoped>\n",
       "    .dataframe tbody tr th:only-of-type {\n",
       "        vertical-align: middle;\n",
       "    }\n",
       "\n",
       "    .dataframe tbody tr th {\n",
       "        vertical-align: top;\n",
       "    }\n",
       "\n",
       "    .dataframe thead th {\n",
       "        text-align: right;\n",
       "    }\n",
       "</style>\n",
       "<table border=\"1\" class=\"dataframe\">\n",
       "  <thead>\n",
       "    <tr style=\"text-align: right;\">\n",
       "      <th></th>\n",
       "      <th>0</th>\n",
       "      <th>1</th>\n",
       "      <th>2</th>\n",
       "      <th>3</th>\n",
       "      <th>4</th>\n",
       "      <th>5</th>\n",
       "      <th>6</th>\n",
       "      <th>7</th>\n",
       "      <th>8</th>\n",
       "      <th>9</th>\n",
       "      <th>10</th>\n",
       "    </tr>\n",
       "  </thead>\n",
       "  <tbody>\n",
       "    <tr>\n",
       "      <th>0</th>\n",
       "      <td>0</td>\n",
       "      <td>2</td>\n",
       "      <td>0</td>\n",
       "      <td>1</td>\n",
       "      <td>0</td>\n",
       "      <td>0</td>\n",
       "      <td>1</td>\n",
       "      <td>2</td>\n",
       "      <td>0</td>\n",
       "      <td>0</td>\n",
       "      <td>0</td>\n",
       "    </tr>\n",
       "    <tr>\n",
       "      <th>1</th>\n",
       "      <td>0</td>\n",
       "      <td>1</td>\n",
       "      <td>0</td>\n",
       "      <td>1</td>\n",
       "      <td>0</td>\n",
       "      <td>0</td>\n",
       "      <td>1</td>\n",
       "      <td>1</td>\n",
       "      <td>0</td>\n",
       "      <td>0</td>\n",
       "      <td>0</td>\n",
       "    </tr>\n",
       "    <tr>\n",
       "      <th>2</th>\n",
       "      <td>0</td>\n",
       "      <td>0</td>\n",
       "      <td>0</td>\n",
       "      <td>1</td>\n",
       "      <td>1</td>\n",
       "      <td>0</td>\n",
       "      <td>1</td>\n",
       "      <td>1</td>\n",
       "      <td>0</td>\n",
       "      <td>0</td>\n",
       "      <td>0</td>\n",
       "    </tr>\n",
       "    <tr>\n",
       "      <th>3</th>\n",
       "      <td>0</td>\n",
       "      <td>1</td>\n",
       "      <td>0</td>\n",
       "      <td>1</td>\n",
       "      <td>0</td>\n",
       "      <td>0</td>\n",
       "      <td>1</td>\n",
       "      <td>1</td>\n",
       "      <td>0</td>\n",
       "      <td>0</td>\n",
       "      <td>0</td>\n",
       "    </tr>\n",
       "    <tr>\n",
       "      <th>4</th>\n",
       "      <td>0</td>\n",
       "      <td>1</td>\n",
       "      <td>0</td>\n",
       "      <td>1</td>\n",
       "      <td>0</td>\n",
       "      <td>0</td>\n",
       "      <td>1</td>\n",
       "      <td>1</td>\n",
       "      <td>0</td>\n",
       "      <td>0</td>\n",
       "      <td>0</td>\n",
       "    </tr>\n",
       "  </tbody>\n",
       "</table>\n",
       "</div>"
      ],
      "text/plain": [
       "   0   1   2   3   4   5   6   7   8   9   10\n",
       "0   0   2   0   1   0   0   1   2   0   0   0\n",
       "1   0   1   0   1   0   0   1   1   0   0   0\n",
       "2   0   0   0   1   1   0   1   1   0   0   0\n",
       "3   0   1   0   1   0   0   1   1   0   0   0\n",
       "4   0   1   0   1   0   0   1   1   0   0   0"
      ]
     },
     "execution_count": 3,
     "metadata": {},
     "output_type": "execute_result"
    }
   ],
   "source": [
    "data=pd.read_csv(\"./Glass.txt\",sep=\"\\t\",header=None )\n",
    "del data[11]\n",
    "\n",
    "data.head()\n"
   ]
  },
  {
   "cell_type": "markdown",
   "id": "00d9745d",
   "metadata": {},
   "source": [
    "# divide the data into two categories"
   ]
  },
  {
   "cell_type": "code",
   "execution_count": 4,
   "id": "14b5b194",
   "metadata": {},
   "outputs": [],
   "source": [
    "train_data , test_data = train_test_split(data , test_size=0.3)\n",
    "\n",
    "\n"
   ]
  },
  {
   "cell_type": "markdown",
   "id": "208350a9",
   "metadata": {},
   "source": [
    "#  One-Hot representation"
   ]
  },
  {
   "cell_type": "code",
   "execution_count": 6,
   "id": "0847eafc",
   "metadata": {},
   "outputs": [
    {
     "name": "stdout",
     "output_type": "stream",
     "text": [
      "(10, 150)\n",
      "(6, 150)\n",
      "(10, 64)\n",
      "(6, 64)\n"
     ]
    }
   ],
   "source": [
    "X_train=train_data.iloc[:,0:10].T\n",
    "Y_train=pd.get_dummies(train_data.iloc[:,-1], prefix='y').T\n",
    "\n",
    "X_test=test_data.iloc[:,0:10].T\n",
    "Y_test=pd.get_dummies(test_data.iloc[:,-1], prefix='y').T\n",
    "\n",
    "print(X_train.shape)\n",
    "print(Y_train.shape)\n",
    "print(X_test.shape)\n",
    "print(Y_test.shape)\n",
    "\n"
   ]
  },
  {
   "cell_type": "markdown",
   "id": "7c4da8e0",
   "metadata": {},
   "source": [
    "## Activation Function"
   ]
  },
  {
   "cell_type": "code",
   "execution_count": 7,
   "id": "7d506ed0",
   "metadata": {},
   "outputs": [],
   "source": [
    "def Relu(x):\n",
    "    return np.maximum(x,0)\n",
    "\n",
    "def SoftMax(x):\n",
    "    expx=np.exp(x)\n",
    "    return expx/np.sum(expx,axis=0)\n",
    "    "
   ]
  },
  {
   "cell_type": "code",
   "execution_count": 8,
   "id": "289be1aa",
   "metadata": {},
   "outputs": [],
   "source": [
    "def derivative_Relu(u):\n",
    "    return np.array(u>0,dtype=np.float16)\n"
   ]
  },
  {
   "cell_type": "markdown",
   "id": "25155741",
   "metadata": {},
   "source": [
    "## initialize Parameters \n",
    "#####   In this function,we have three paramerters that  n_x is the number of neurons in the input layer and n_h is the number of neurons  in the hidden layer , at the end n_y is the number of neurons  in the output layer"
   ]
  },
  {
   "cell_type": "code",
   "execution_count": 9,
   "id": "f7ce3df2",
   "metadata": {},
   "outputs": [],
   "source": [
    "def initialize_parameters(n_x,n_h,n_y):\n",
    "    w1=np.random.randn(n_h,n_x)*0.01\n",
    "    b1=np.zeros((n_h,1))\n",
    "    \n",
    "    w2=np.random.randn(n_y,n_h)*0.01\n",
    "    b2=np.zeros((n_y,1))\n",
    "    \n",
    "    parameters={\n",
    "        \"w1\":w1,\n",
    "        \"b1\":b1,\n",
    "        \"w2\":w2,\n",
    "        \"b2\":b2\n",
    "    }\n",
    "    return parameters"
   ]
  },
  {
   "cell_type": "markdown",
   "id": "63c16d64",
   "metadata": {},
   "source": [
    "# Forward Propagation"
   ]
  },
  {
   "cell_type": "code",
   "execution_count": 10,
   "id": "5e78c8bc",
   "metadata": {},
   "outputs": [],
   "source": [
    "def forward_propagation(x,parameters):\n",
    "    \n",
    "    w1=parameters['w1']\n",
    "    b1=parameters['b1']\n",
    "    w2=parameters['w2']\n",
    "    b2=parameters['b2']\n",
    "    \n",
    "    z1=np.dot(w1,x) + b1\n",
    "    a1=Relu(z1)\n",
    "    \n",
    "    z2=np.dot(w2,a1) + b2\n",
    "    a2=SoftMax(z2)\n",
    "    \n",
    "    forward_cache={\n",
    "        \"z1\":z1,\n",
    "        \"a1\":a1,\n",
    "        \"z2\":z2,\n",
    "        \"a2\":a2\n",
    "    }\n",
    "    \n",
    "    return forward_cache\n",
    "\n",
    "    "
   ]
  },
  {
   "cell_type": "markdown",
   "id": "1397c5e2",
   "metadata": {},
   "source": [
    "# cross_entropy "
   ]
  },
  {
   "cell_type": "code",
   "execution_count": 11,
   "id": "812f9643",
   "metadata": {},
   "outputs": [],
   "source": [
    "def cost_function(a2,y):\n",
    "    m=y.shape[1]\n",
    "    cost=-(1/m)*np.sum(y*np.log(a2))\n",
    "    \n",
    "    return cost      "
   ]
  },
  {
   "cell_type": "markdown",
   "id": "c0715365",
   "metadata": {},
   "source": [
    "# Backpropagation "
   ]
  },
  {
   "cell_type": "code",
   "execution_count": 12,
   "id": "62f8f938",
   "metadata": {},
   "outputs": [],
   "source": [
    "def backward_prop(x,y,parameters,forward_cache):\n",
    "    \n",
    "    w1=parameters['w1']\n",
    "    b1=parameters['b1']\n",
    "    w2=parameters['w2']\n",
    "    b2=parameters['b2']\n",
    "    \n",
    "    a1=forward_cache['a1']\n",
    "    a2=forward_cache['a2']\n",
    "    \n",
    "    m=x.shape[1]\n",
    "    \n",
    "    dz2=(a2-y)\n",
    "    dw2=(1/m)*np.dot(dz2,a1.T)\n",
    "    db2=(1/m)*np.sum(dz2,axis=1,keepdims=True)\n",
    "    \n",
    "    dz1=(1/m)*np.dot(w2.T ,dz2)*derivative_Relu(a1)\n",
    "    dw1=(1/m)*np.dot(dz1,x.T)\n",
    "    db1=(1/m)*np.sum(dz1,axis=1,keepdims=True)\n",
    "    \n",
    "    gradients={\n",
    "        \"dw1\":dw1,\n",
    "        \"db1\":db1,\n",
    "        \"dw2\":dw2,\n",
    "        \"db2\":db2\n",
    "        \n",
    "    }\n",
    "    \n",
    "    \n",
    "    return gradients"
   ]
  },
  {
   "cell_type": "markdown",
   "id": "b1c897c0",
   "metadata": {},
   "source": [
    "# update Parameters"
   ]
  },
  {
   "cell_type": "code",
   "execution_count": 13,
   "id": "dc8ac06b",
   "metadata": {},
   "outputs": [],
   "source": [
    "def update_parameters(parameters,gradients,Learning_rate):\n",
    "    \n",
    "    w1=parameters['w1']\n",
    "    b1=parameters['b1']\n",
    "    w2=parameters['w2']\n",
    "    b2=parameters['b2']    \n",
    "    \n",
    "    dw1=gradients['dw1']\n",
    "    db1=gradients['db1']\n",
    "    dw2=gradients['dw2']\n",
    "    db2=gradients['db2']\n",
    "    \n",
    "    w1= w1 - Learning_rate*dw1\n",
    "    b1= b1 - Learning_rate*db1\n",
    "    w2= w2 - Learning_rate*dw2\n",
    "    b2= b2 - Learning_rate*db2\n",
    "    \n",
    "    parameters={\n",
    "        \"w1\":w1,\n",
    "        \"b1\":b1,\n",
    "        \"w2\":w2,\n",
    "        \"b2\":b2\n",
    "    }\n",
    "    return parameters"
   ]
  },
  {
   "cell_type": "markdown",
   "id": "ce832a0e",
   "metadata": {},
   "source": [
    "# Start Learning "
   ]
  },
  {
   "cell_type": "code",
   "execution_count": 93,
   "id": "295f83d0",
   "metadata": {},
   "outputs": [],
   "source": [
    "n_x=X_train.shape[0]\n",
    "n_y=Y_train.shape[0]\n",
    "n_h=11\n",
    "Learning_rate=0.01\n",
    "parameters=initialize_parameters(n_x,n_h,n_y) \n",
    "for i in range(5000):     \n",
    "    forward_chache=forward_propagation(np.array(X_train),parameters)  \n",
    "    cost=cost_function(forward_chache['a2'],Y_train)    \n",
    "    gradients=backward_prop(np.array(X_train),np.array(Y_train),parameters,forward_chache)  \n",
    "    parameters=update_parameters(parameters,gradients,Learning_rate)\n",
    "    \n",
    "    \n",
    "\n",
    "\n"
   ]
  },
  {
   "cell_type": "markdown",
   "id": "0e5e38a2",
   "metadata": {},
   "source": [
    "##  Accuracy"
   ]
  },
  {
   "cell_type": "code",
   "execution_count": 18,
   "id": "008cb26d",
   "metadata": {},
   "outputs": [],
   "source": [
    "from sklearn.metrics import precision_score, recall_score, f1_score, accuracy_score\n",
    "from sklearn.metrics import confusion_matrix\n",
    "import matplotlib.pyplot as plt"
   ]
  },
  {
   "cell_type": "code",
   "execution_count": 94,
   "id": "a6b68085",
   "metadata": {},
   "outputs": [
    {
     "data": {
      "image/png": "[encoded data removed]",
      "text/plain": [
       "<Figure size 360x360 with 1 Axes>"
      ]
     },
     "metadata": {
      "needs_background": "light"
     },
     "output_type": "display_data"
    }
   ],
   "source": [
    "forward_ch=forward_propagation(X_test,parameters)\n",
    "y_pre=np.argmax(forward_ch['a2'],0)\n",
    "y_true=np.argmax(np.array(Y_test),0)\n",
    "conf_matrix = confusion_matrix(y_true=y_true, y_pred=y_pre)\n",
    "#\n",
    "# Print the confusion matrix using Matplotlib\n",
    "#\n",
    "fig, ax = plt.subplots(figsize=(5, 5))\n",
    "ax.matshow(conf_matrix, cmap=plt.cm.Oranges, alpha=0.3)\n",
    "for i in range(conf_matrix.shape[0]):    \n",
    "    for j in range(conf_matrix.shape[1]):\n",
    "        ax.text(x=j, y=i,s=conf_matrix[i, j], va='center', ha='center', size='xx-large')\n",
    "\n",
    "plt.xlabel('Predictions', fontsize=18)\n",
    "plt.ylabel('Actuals', fontsize=18)\n",
    "plt.title('Confusion Matrix', fontsize=18)\n",
    "plt.show()"
   ]
  },
  {
   "cell_type": "code",
   "execution_count": 95,
   "id": "fe7eced1",
   "metadata": {},
   "outputs": [
    {
     "name": "stdout",
     "output_type": "stream",
     "text": [
      "79.6875\n"
     ]
    }
   ],
   "source": [
    "print(accuracy_score(y_true=y_true, y_pred=y_pre)*100)"
   ]
  },
  {
   "cell_type": "code",
   "execution_count": 96,
   "id": "de0004c1",
   "metadata": {},
   "outputs": [
    {
     "name": "stdout",
     "output_type": "stream",
     "text": [
      "[1.         0.72413793 0.         0.64285714 0.         0.        ]\n"
     ]
    },
    {
     "name": "stderr",
     "output_type": "stream",
     "text": [
      "C:\\Users\\navaki\\anaconda3\\lib\\site-packages\\sklearn\\metrics\\_classification.py:1248: UndefinedMetricWarning: Precision is ill-defined and being set to 0.0 in labels with no predicted samples. Use `zero_division` parameter to control this behavior.\n",
      "  _warn_prf(average, modifier, msg_start, len(result))\n"
     ]
    }
   ],
   "source": [
    "print(precision_score(y_true,y_pre,average=None))"
   ]
  },
  {
   "cell_type": "code",
   "execution_count": 97,
   "id": "9e865b00",
   "metadata": {},
   "outputs": [
    {
     "name": "stdout",
     "output_type": "stream",
     "text": [
      "[1. 1. 0. 1. 0. 0.]\n"
     ]
    }
   ],
   "source": [
    "print(recall_score(y_true,y_pre,average=None))"
   ]
  },
  {
   "cell_type": "code",
   "execution_count": 98,
   "id": "74edb3fb",
   "metadata": {},
   "outputs": [
    {
     "name": "stdout",
     "output_type": "stream",
     "text": [
      "[1.        0.84      0.        0.7826087 0.        0.       ]\n"
     ]
    }
   ],
   "source": [
    "print(f1_score(y_true,y_pre,average=None))"
   ]
  },
  {
   "cell_type": "code",
   "execution_count": null,
   "id": "217f1743",
   "metadata": {},
   "outputs": [],
   "source": []
  }
 ],
 "metadata": {
  "kernelspec": {
   "display_name": "Python 3 (ipykernel)",
   "language": "python",
   "name": "python3"
  },
  "language_info": {
   "codemirror_mode": {
    "name": "ipython",
    "version": 3
   },
   "file_extension": ".py",
   "mimetype": "text/x-python",
   "name": "python",
   "nbconvert_exporter": "python",
   "pygments_lexer": "ipython3",
   "version": "3.9.7"
  }
 },
 "nbformat": 4,
 "nbformat_minor": 5
}
